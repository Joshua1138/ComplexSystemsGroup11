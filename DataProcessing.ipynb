{
 "cells": [
  {
   "cell_type": "code",
   "execution_count": 152,
   "id": "83be89bd-1e80-4468-b1e2-e02510052212",
   "metadata": {
    "tags": []
   },
   "outputs": [],
   "source": [
    "import numpy as np\n",
    "import pandas as pd\n",
    "import matplotlib as plt\n",
    "import os\n",
    "\n",
    "path = os.getcwd()\n",
    "player_time = pd.read_csv(path + '/player_time.csv')\n",
    "matches = pd.read_csv(path + '/match.csv')\n",
    "\n",
    "#radiant are slots 0-4, dire are slots 128-132"
   ]
  },
  {
   "cell_type": "code",
   "execution_count": 153,
   "id": "97ded70b-1b82-40d0-8442-70dd825c8812",
   "metadata": {
    "tags": []
   },
   "outputs": [],
   "source": [
    "#print(player_time.head())\n",
    "#print(player_time.shape)"
   ]
  },
  {
   "cell_type": "code",
   "execution_count": 154,
   "id": "263907ad-fbbe-48e7-b713-0b172b8c2fd1",
   "metadata": {
    "tags": []
   },
   "outputs": [],
   "source": [
    "\n",
    "player_time['mean_gold_rad'] = player_time[['gold_t_0', 'gold_t_1', 'gold_t_2', 'gold_t_3', 'gold_t_4']].sum(axis=1)\n",
    "player_time['mean_xp_rad'] = player_time[['xp_t_0', 'xp_t_1', 'xp_t_2', 'xp_t_3', 'xp_t_4']].sum(axis=1)\n",
    "player_time['mean_lh_rad'] = player_time[['lh_t_0', 'lh_t_1', 'lh_t_2', 'lh_t_3', 'lh_t_4']].sum(axis=1)\n",
    "player_time['mean_gold_dire'] = player_time[['gold_t_128', 'gold_t_129', 'gold_t_130', 'gold_t_131', 'gold_t_132']].sum(axis=1)\n",
    "player_time['mean_xp_dire'] = player_time[['xp_t_128', 'xp_t_129', 'xp_t_130', 'xp_t_131', 'xp_t_132']].sum(axis=1)\n",
    "player_time['mean_lh_dire'] = player_time[['lh_t_128', 'lh_t_129', 'lh_t_130', 'lh_t_131', 'lh_t_132']].sum(axis=1)\n",
    "\n",
    "player_time = player_time.drop(['gold_t_0', 'gold_t_1', 'gold_t_2', 'gold_t_3', 'gold_t_4', 'xp_t_0', 'xp_t_1', 'xp_t_2', 'xp_t_3', 'xp_t_4'], axis=1)\n",
    "player_time = player_time.drop(['gold_t_128', 'gold_t_129', 'gold_t_130', 'gold_t_131', 'gold_t_132', 'xp_t_128', 'xp_t_129', 'xp_t_130', 'xp_t_131', 'xp_t_132'], axis=1)\n",
    "player_time = player_time.drop(['lh_t_0', 'lh_t_1', 'lh_t_2', 'lh_t_3', 'lh_t_4', 'lh_t_128', 'lh_t_129', 'lh_t_130', 'lh_t_131', 'lh_t_132'], axis=1)"
   ]
  },
  {
   "cell_type": "code",
   "execution_count": 155,
   "id": "71128cb2-a291-421e-aee0-a44a97aaf77f",
   "metadata": {
    "tags": []
   },
   "outputs": [],
   "source": [
    "#print(player_time.head(10))"
   ]
  },
  {
   "cell_type": "code",
   "execution_count": 156,
   "id": "c14af340-0546-4877-b416-e1a202f5d6ce",
   "metadata": {
    "tags": []
   },
   "outputs": [],
   "source": [
    "time_list = player_time['times']/60\n",
    "player_time['times_minutes'] = time_list.astype(int)\n",
    "#print(player_time.columns)\n",
    "player_time = player_time[['match_id', 'times', 'times_minutes', 'mean_gold_rad', 'mean_xp_rad', 'mean_lh_rad', 'mean_gold_dire', 'mean_xp_dire', 'mean_lh_dire']]"
   ]
  },
  {
   "cell_type": "code",
   "execution_count": 157,
   "id": "d467f2bb-7ce5-4b90-b727-85a124ef4980",
   "metadata": {
    "tags": []
   },
   "outputs": [
    {
     "name": "stdout",
     "output_type": "stream",
     "text": [
      "   match_id  times  times_minutes  mean_gold_rad  mean_xp_rad  mean_lh_rad  \\\n",
      "0         0      0              0              0            0            0   \n",
      "1         0     60              1           1113          692            2   \n",
      "2         0    120              2           2471         2376           10   \n",
      "3         0    180              3           3490         3634           23   \n",
      "4         0    240              4           4950         5285           33   \n",
      "\n",
      "   mean_gold_dire  mean_xp_dire  mean_lh_dire  \n",
      "0               0             0             0  \n",
      "1            1370           692            10  \n",
      "2            2726          2318            26  \n",
      "3            4057          3543            40  \n",
      "4            5500          5007            53  \n",
      "(2209778, 9)\n"
     ]
    }
   ],
   "source": [
    "print(player_time.head())\n",
    "print(player_time.shape)"
   ]
  },
  {
   "cell_type": "code",
   "execution_count": 158,
   "id": "c63af012-7387-4501-aa5b-bb0b7b8409cf",
   "metadata": {
    "tags": []
   },
   "outputs": [
    {
     "data": {
      "text/html": [
       "<div>\n",
       "<style scoped>\n",
       "    .dataframe tbody tr th:only-of-type {\n",
       "        vertical-align: middle;\n",
       "    }\n",
       "\n",
       "    .dataframe tbody tr th {\n",
       "        vertical-align: top;\n",
       "    }\n",
       "\n",
       "    .dataframe thead th {\n",
       "        text-align: right;\n",
       "    }\n",
       "</style>\n",
       "<table border=\"1\" class=\"dataframe\">\n",
       "  <thead>\n",
       "    <tr style=\"text-align: right;\">\n",
       "      <th></th>\n",
       "      <th>match_id</th>\n",
       "      <th>duration</th>\n",
       "      <th>radiant_win</th>\n",
       "    </tr>\n",
       "  </thead>\n",
       "  <tbody>\n",
       "    <tr>\n",
       "      <th>0</th>\n",
       "      <td>0</td>\n",
       "      <td>2375</td>\n",
       "      <td>True</td>\n",
       "    </tr>\n",
       "    <tr>\n",
       "      <th>1</th>\n",
       "      <td>1</td>\n",
       "      <td>2582</td>\n",
       "      <td>False</td>\n",
       "    </tr>\n",
       "    <tr>\n",
       "      <th>2</th>\n",
       "      <td>2</td>\n",
       "      <td>2716</td>\n",
       "      <td>False</td>\n",
       "    </tr>\n",
       "    <tr>\n",
       "      <th>3</th>\n",
       "      <td>3</td>\n",
       "      <td>3085</td>\n",
       "      <td>False</td>\n",
       "    </tr>\n",
       "    <tr>\n",
       "      <th>4</th>\n",
       "      <td>4</td>\n",
       "      <td>1887</td>\n",
       "      <td>True</td>\n",
       "    </tr>\n",
       "  </tbody>\n",
       "</table>\n",
       "</div>"
      ],
      "text/plain": [
       "   match_id  duration  radiant_win\n",
       "0         0      2375         True\n",
       "1         1      2582        False\n",
       "2         2      2716        False\n",
       "3         3      3085        False\n",
       "4         4      1887         True"
      ]
     },
     "execution_count": 158,
     "metadata": {},
     "output_type": "execute_result"
    }
   ],
   "source": [
    "matches = matches.drop(['start_time', 'tower_status_radiant', 'tower_status_dire', 'barracks_status_dire', 'barracks_status_radiant', 'first_blood_time', 'game_mode', 'negative_votes', 'positive_votes', 'cluster'], axis=1)\n",
    "matches.head()"
   ]
  },
  {
   "cell_type": "code",
   "execution_count": 166,
   "id": "9089f058-6623-4711-9c09-166b0dda39bb",
   "metadata": {
    "tags": []
   },
   "outputs": [],
   "source": [
    "player_time_final = player_time.merge(matches[['match_id', 'radiant_win']], on='match_id', how='left')\n",
    "\n",
    "player_time_final['mean_gold_w'] = player_time_final.apply(\n",
    "    lambda row: row['mean_gold_rad'] if row['radiant_win'] else row['mean_gold_dire'], axis=1\n",
    ")\n",
    "\n",
    "player_time_final['mean_gold_l'] = player_time_final.apply(\n",
    "    lambda row: row['mean_gold_dire'] if row['radiant_win'] else row['mean_gold_rad'], axis=1\n",
    ")\n",
    "\n",
    "player_time_final['mean_xp_w'] = player_time_final.apply(\n",
    "    lambda row: row['mean_xp_rad'] if row['radiant_win'] else row['mean_xp_dire'], axis=1\n",
    ")\n",
    "\n",
    "player_time_final['mean_xp_l'] = player_time_final.apply(\n",
    "    lambda row: row['mean_xp_dire'] if row['radiant_win'] else row['mean_xp_rad'], axis=1\n",
    ")\n",
    "\n",
    "player_time_final['mean_lh_w'] = player_time_final.apply(\n",
    "    lambda row: row['mean_lh_rad'] if row['radiant_win'] else row['mean_lh_dire'], axis=1\n",
    ")\n",
    "\n",
    "player_time_final['mean_lh_l'] = player_time_final.apply(\n",
    "    lambda row: row['mean_lh_dire'] if row['radiant_win'] else row['mean_lh_rad'], axis=1\n",
    ")"
   ]
  },
  {
   "cell_type": "code",
   "execution_count": 168,
   "id": "183c2d07-7244-4de0-b25e-2292d1fddf9e",
   "metadata": {
    "tags": []
   },
   "outputs": [
    {
     "data": {
      "text/html": [
       "<div>\n",
       "<style scoped>\n",
       "    .dataframe tbody tr th:only-of-type {\n",
       "        vertical-align: middle;\n",
       "    }\n",
       "\n",
       "    .dataframe tbody tr th {\n",
       "        vertical-align: top;\n",
       "    }\n",
       "\n",
       "    .dataframe thead th {\n",
       "        text-align: right;\n",
       "    }\n",
       "</style>\n",
       "<table border=\"1\" class=\"dataframe\">\n",
       "  <thead>\n",
       "    <tr style=\"text-align: right;\">\n",
       "      <th></th>\n",
       "      <th>match_id</th>\n",
       "      <th>times</th>\n",
       "      <th>times_minutes</th>\n",
       "      <th>mean_gold_rad</th>\n",
       "      <th>mean_xp_rad</th>\n",
       "      <th>mean_lh_rad</th>\n",
       "      <th>mean_gold_dire</th>\n",
       "      <th>mean_xp_dire</th>\n",
       "      <th>mean_lh_dire</th>\n",
       "      <th>radiant_win</th>\n",
       "      <th>mean_gold_w</th>\n",
       "      <th>mean_gold_l</th>\n",
       "      <th>mean_xp_w</th>\n",
       "      <th>mean_xp_l</th>\n",
       "      <th>mean_lh_w</th>\n",
       "      <th>mean_lh_l</th>\n",
       "    </tr>\n",
       "  </thead>\n",
       "  <tbody>\n",
       "    <tr>\n",
       "      <th>0</th>\n",
       "      <td>0</td>\n",
       "      <td>0</td>\n",
       "      <td>0</td>\n",
       "      <td>0</td>\n",
       "      <td>0</td>\n",
       "      <td>0</td>\n",
       "      <td>0</td>\n",
       "      <td>0</td>\n",
       "      <td>0</td>\n",
       "      <td>True</td>\n",
       "      <td>0</td>\n",
       "      <td>0</td>\n",
       "      <td>0</td>\n",
       "      <td>0</td>\n",
       "      <td>0</td>\n",
       "      <td>0</td>\n",
       "    </tr>\n",
       "    <tr>\n",
       "      <th>1</th>\n",
       "      <td>0</td>\n",
       "      <td>60</td>\n",
       "      <td>1</td>\n",
       "      <td>1113</td>\n",
       "      <td>692</td>\n",
       "      <td>2</td>\n",
       "      <td>1370</td>\n",
       "      <td>692</td>\n",
       "      <td>10</td>\n",
       "      <td>True</td>\n",
       "      <td>1113</td>\n",
       "      <td>1370</td>\n",
       "      <td>692</td>\n",
       "      <td>692</td>\n",
       "      <td>2</td>\n",
       "      <td>10</td>\n",
       "    </tr>\n",
       "    <tr>\n",
       "      <th>2</th>\n",
       "      <td>0</td>\n",
       "      <td>120</td>\n",
       "      <td>2</td>\n",
       "      <td>2471</td>\n",
       "      <td>2376</td>\n",
       "      <td>10</td>\n",
       "      <td>2726</td>\n",
       "      <td>2318</td>\n",
       "      <td>26</td>\n",
       "      <td>True</td>\n",
       "      <td>2471</td>\n",
       "      <td>2726</td>\n",
       "      <td>2376</td>\n",
       "      <td>2318</td>\n",
       "      <td>10</td>\n",
       "      <td>26</td>\n",
       "    </tr>\n",
       "    <tr>\n",
       "      <th>3</th>\n",
       "      <td>0</td>\n",
       "      <td>180</td>\n",
       "      <td>3</td>\n",
       "      <td>3490</td>\n",
       "      <td>3634</td>\n",
       "      <td>23</td>\n",
       "      <td>4057</td>\n",
       "      <td>3543</td>\n",
       "      <td>40</td>\n",
       "      <td>True</td>\n",
       "      <td>3490</td>\n",
       "      <td>4057</td>\n",
       "      <td>3634</td>\n",
       "      <td>3543</td>\n",
       "      <td>23</td>\n",
       "      <td>40</td>\n",
       "    </tr>\n",
       "    <tr>\n",
       "      <th>4</th>\n",
       "      <td>0</td>\n",
       "      <td>240</td>\n",
       "      <td>4</td>\n",
       "      <td>4950</td>\n",
       "      <td>5285</td>\n",
       "      <td>33</td>\n",
       "      <td>5500</td>\n",
       "      <td>5007</td>\n",
       "      <td>53</td>\n",
       "      <td>True</td>\n",
       "      <td>4950</td>\n",
       "      <td>5500</td>\n",
       "      <td>5285</td>\n",
       "      <td>5007</td>\n",
       "      <td>33</td>\n",
       "      <td>53</td>\n",
       "    </tr>\n",
       "  </tbody>\n",
       "</table>\n",
       "</div>"
      ],
      "text/plain": [
       "   match_id  times  times_minutes  mean_gold_rad  mean_xp_rad  mean_lh_rad  \\\n",
       "0         0      0              0              0            0            0   \n",
       "1         0     60              1           1113          692            2   \n",
       "2         0    120              2           2471         2376           10   \n",
       "3         0    180              3           3490         3634           23   \n",
       "4         0    240              4           4950         5285           33   \n",
       "\n",
       "   mean_gold_dire  mean_xp_dire  mean_lh_dire  radiant_win  mean_gold_w  \\\n",
       "0               0             0             0         True            0   \n",
       "1            1370           692            10         True         1113   \n",
       "2            2726          2318            26         True         2471   \n",
       "3            4057          3543            40         True         3490   \n",
       "4            5500          5007            53         True         4950   \n",
       "\n",
       "   mean_gold_l  mean_xp_w  mean_xp_l  mean_lh_w  mean_lh_l  \n",
       "0            0          0          0          0          0  \n",
       "1         1370        692        692          2         10  \n",
       "2         2726       2376       2318         10         26  \n",
       "3         4057       3634       3543         23         40  \n",
       "4         5500       5285       5007         33         53  "
      ]
     },
     "execution_count": 168,
     "metadata": {},
     "output_type": "execute_result"
    }
   ],
   "source": [
    "player_time_final.head()"
   ]
  },
  {
   "cell_type": "code",
   "execution_count": 167,
   "id": "37558835-c6cb-412c-ab3b-656dc84cf407",
   "metadata": {
    "tags": []
   },
   "outputs": [],
   "source": [
    "player_time_final.to_csv('player_time_means.csv')"
   ]
  }
 ],
 "metadata": {
  "kernelspec": {
   "display_name": "Python 3 (ipykernel)",
   "language": "python",
   "name": "python3"
  },
  "language_info": {
   "codemirror_mode": {
    "name": "ipython",
    "version": 3
   },
   "file_extension": ".py",
   "mimetype": "text/x-python",
   "name": "python",
   "nbconvert_exporter": "python",
   "pygments_lexer": "ipython3",
   "version": "3.11.4"
  }
 },
 "nbformat": 4,
 "nbformat_minor": 5
}
